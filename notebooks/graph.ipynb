{
 "cells": [
  {
   "cell_type": "code",
   "execution_count": 95,
   "metadata": {},
   "outputs": [],
   "source": [
    "import networkx as nx\n",
    "import numpy as np\n",
    "import os\n",
    "from joblib import Parallel, delayed"
   ]
  },
  {
   "cell_type": "code",
   "execution_count": 96,
   "metadata": {},
   "outputs": [],
   "source": [
    "os.environ['CUDA_VISIBLE_DEVICES'] = '0'"
   ]
  },
  {
   "attachments": {},
   "cell_type": "markdown",
   "metadata": {},
   "source": [
    "# Import Data"
   ]
  },
  {
   "cell_type": "code",
   "execution_count": 97,
   "metadata": {},
   "outputs": [
    {
     "name": "stdout",
     "output_type": "stream",
     "text": [
      "Graph with 4039 nodes and 88234 edges was correctly loaded\n"
     ]
    }
   ],
   "source": [
    "data_path = '../data/facebook/facebook_combined.txt'\n",
    "graph = nx.read_edgelist(data_path)\n",
    "\n",
    "print(f'Graph with {len(graph.nodes)} nodes and {len(graph.edges)} edges was correctly loaded')"
   ]
  },
  {
   "attachments": {},
   "cell_type": "markdown",
   "metadata": {},
   "source": [
    "# Network characteristics"
   ]
  },
  {
   "cell_type": "code",
   "execution_count": 98,
   "metadata": {},
   "outputs": [
    {
     "name": "stdout",
     "output_type": "stream",
     "text": [
      "Graph main characteristics :\n",
      "Nodes : 4039\n",
      "Edges : 88234\n",
      "Diameter : 8\n"
     ]
    }
   ],
   "source": [
    "print('Graph main characteristics :')\n",
    "\n",
    "print(f'Nodes : {len(graph.nodes)}')\n",
    "print(f'Edges : {len(graph.edges)}')\n",
    "print(f'Diameter : {nx.diameter(graph)}')"
   ]
  },
  {
   "attachments": {},
   "cell_type": "markdown",
   "metadata": {},
   "source": [
    "# Metrics"
   ]
  },
  {
   "cell_type": "code",
   "execution_count": 99,
   "metadata": {},
   "outputs": [],
   "source": [
    "metrics_to_functions = {\n",
    "    'degree': lambda graph : graph.degree, \n",
    "    'eigenvector_centrality': nx.eigenvector_centrality, \n",
    "    'page_rank': nx.pagerank,\n",
    "    'clustering_coef': nx.clustering, \n",
    "    'closeness': nx.closeness_centrality, \n",
    "    'betweenness' : nx.betweenness_centrality\n",
    "    }\n",
    "## neighborhood_connectivity missing\n",
    "\n",
    "def compute_centrality(metric, graph):\n",
    "    print(f'Metric {metric} is being measured')\n",
    "    return {metric: metrics_to_functions[metric](graph)}\n",
    "\n",
    "def get_centralities(graph, metrics_to_functions):\n",
    "    metric_list = Parallel(n_jobs=4)(delayed(compute_centrality)(metric, graph) for metric in metrics_to_functions.keys())\n",
    "    metric_dict = {}\n",
    "    for item in metric_list:\n",
    "        key = list(item.keys())[0]\n",
    "        metric_dict[key] = dict(item[key])\n",
    "    return metric_dict"
   ]
  },
  {
   "cell_type": "code",
   "execution_count": 100,
   "metadata": {},
   "outputs": [],
   "source": [
    "graph_metrics = get_centralities(graph, metrics_to_functions)"
   ]
  },
  {
   "cell_type": "code",
   "execution_count": 101,
   "metadata": {},
   "outputs": [
    {
     "name": "stdout",
     "output_type": "stream",
     "text": [
      "dict_keys(['degree', 'eigenvector_centrality', 'page_rank', 'clustering_coef', 'closeness', 'betweenness'])\n"
     ]
    }
   ],
   "source": [
    "print(graph_metrics.keys())"
   ]
  },
  {
   "cell_type": "code",
   "execution_count": 102,
   "metadata": {},
   "outputs": [
    {
     "name": "stdout",
     "output_type": "stream",
     "text": [
      "Maximum degree nodes : ['107', '1684', '1912', '3437', '0', '2543', '2347', '1888', '1800', '1663']\n",
      "Maximum eigenvector_centrality nodes : ['1912', '2266', '2206', '2233', '2464', '2142', '2218', '2078', '2123', '1993']\n",
      "Maximum page_rank nodes : ['3437', '107', '1684', '0', '1912', '348', '686', '3980', '414', '698']\n",
      "Maximum clustering_coef nodes : ['32', '33', '35', '42', '44', '46', '47', '52', '63', '70']\n",
      "Maximum closeness nodes : ['107', '58', '428', '563', '1684', '171', '348', '483', '414', '376']\n",
      "Maximum betweenness nodes : ['107', '1684', '3437', '1912', '1085', '0', '698', '567', '58', '428']\n"
     ]
    }
   ],
   "source": [
    "def get_n_maxima_for_metric(n, metric, graph_metrics) :\n",
    "    temp = graph_metrics[metric].copy()\n",
    "    max_keys = []\n",
    "    for i in range(n):\n",
    "        key = max(temp, key=temp.get)\n",
    "        max_keys.append(key)\n",
    "        temp[key] = 0\n",
    "    return max_keys\n",
    "\n",
    "max_degree_nodes = get_n_maxima_for_metric(10, \"degree\", graph_metrics)\n",
    "max_eigenvector_centrality_nodes = get_n_maxima_for_metric(10, \"eigenvector_centrality\", graph_metrics)\n",
    "max_page_rank_nodes = get_n_maxima_for_metric(10, \"page_rank\", graph_metrics)\n",
    "max_clustering_coef_nodes = get_n_maxima_for_metric(10, \"clustering_coef\", graph_metrics)\n",
    "max_closeness_nodes = get_n_maxima_for_metric(10, \"closeness\", graph_metrics)\n",
    "max_betweenness_nodes = get_n_maxima_for_metric(10, \"betweenness\", graph_metrics)\n",
    "\n",
    "print(f\"Maximum degree nodes : {max_degree_nodes}\")\n",
    "print(f\"Maximum eigenvector_centrality nodes : {max_eigenvector_centrality_nodes}\")\n",
    "print(f\"Maximum page_rank nodes : {max_page_rank_nodes}\")\n",
    "print(f\"Maximum clustering_coef nodes : {max_clustering_coef_nodes}\")\n",
    "print(f\"Maximum closeness nodes : {max_closeness_nodes}\")\n",
    "print(f\"Maximum betweenness nodes : {max_betweenness_nodes}\")"
   ]
  },
  {
   "attachments": {},
   "cell_type": "markdown",
   "metadata": {},
   "source": [
    "# Propagation d'une rumeur"
   ]
  },
  {
   "cell_type": "code",
   "execution_count": 112,
   "metadata": {},
   "outputs": [],
   "source": [
    "def label_propagation(graph, labeled_nodes, max_iter=2):\n",
    "    \"\"\"\n",
    "    Label propagation using the random walk method.\n",
    "\n",
    "    Parameters\n",
    "    ----------\n",
    "    G : NetworkX graph\n",
    "        The graph to run label propagation on.\n",
    "    labeled_nodes : dict\n",
    "        A dictionary containing the labels of some nodes. The keys are the node indices and the values are the labels.\n",
    "    max_iter : int, optional (default=1000)\n",
    "        The maximum number of iterations to run the algorithm.\n",
    "    alpha : float, optional (default=0.1)\n",
    "        The weight given to the original label during the propagation.\n",
    "\n",
    "    Returns\n",
    "    -------\n",
    "    labels : dict\n",
    "        A dictionary containing the labels of all nodes. The keys are the node indices and the values are the labels.\n",
    "    \"\"\"\n",
    "    # Create a dictionary of node indices to their corresponding row indices in the transition matrix.\n",
    "    node_to_row = {n: i for i, n in enumerate(graph.nodes())}\n",
    "\n",
    "    # Create transition matrix\n",
    "    adjacency_matrix = nx.to_numpy_array(graph)\n",
    "    row_sums = adjacency_matrix.sum(axis=1)\n",
    "    transition_matrix = adjacency_matrix / row_sums[:, np.newaxis]\n",
    "\n",
    "    # Initialize the label matrix.\n",
    "    Y = np.zeros((len(graph.nodes()), len(labeled_nodes)))\n",
    "    for i, (node, label) in enumerate(labeled_nodes.items()):\n",
    "        Y[node_to_row[node], i] = label\n",
    "\n",
    "    # Propagate the labels using the transition matrix.\n",
    "    for i in range(max_iter):\n",
    "        Y_new = transition_matrix.dot(Y)\n",
    "        if np.allclose(Y, Y_new):\n",
    "            break\n",
    "        Y = Y_new\n",
    "\n",
    "    # Create a dictionary of node indices to their labels.\n",
    "    labels = {node: np.argmax(Y[node_to_row[node]]) for node in graph.nodes()}\n",
    "\n",
    "    return labels"
   ]
  },
  {
   "cell_type": "code",
   "execution_count": 113,
   "metadata": {},
   "outputs": [],
   "source": [
    "node_0 = max_eigenvector_centrality_nodes[0]\n",
    "node_1 = max_eigenvector_centrality_nodes[1]\n",
    "labels = label_propagation(graph, {node_0: 0, node_1: 1})"
   ]
  },
  {
   "cell_type": "code",
   "execution_count": 114,
   "metadata": {},
   "outputs": [
    {
     "data": {
      "text/plain": [
       "766"
      ]
     },
     "execution_count": 114,
     "metadata": {},
     "output_type": "execute_result"
    }
   ],
   "source": [
    "np.sum(list(labels.values()))"
   ]
  },
  {
   "cell_type": "code",
   "execution_count": null,
   "metadata": {},
   "outputs": [],
   "source": []
  }
 ],
 "metadata": {
  "kernelspec": {
   "display_name": "Python 3",
   "language": "python",
   "name": "python3"
  },
  "language_info": {
   "codemirror_mode": {
    "name": "ipython",
    "version": 3
   },
   "file_extension": ".py",
   "mimetype": "text/x-python",
   "name": "python",
   "nbconvert_exporter": "python",
   "pygments_lexer": "ipython3",
   "version": "3.8.5"
  }
 },
 "nbformat": 4,
 "nbformat_minor": 2
}
