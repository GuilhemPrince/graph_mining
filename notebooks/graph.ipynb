{
 "cells": [
  {
   "cell_type": "code",
   "execution_count": 21,
   "metadata": {},
   "outputs": [],
   "source": [
    "import networkx as nx\n",
    "import numpy as np\n",
    "import matplotlib.pyplot as plt\n",
    "import os\n",
    "from joblib import Parallel, delayed"
   ]
  },
  {
   "cell_type": "code",
   "execution_count": 4,
   "metadata": {},
   "outputs": [],
   "source": [
    "from sklearn.semi_supervised import LabelPropagation\n",
    "from sklearn.neighbors import KNeighborsClassifier"
   ]
  },
  {
   "cell_type": "code",
   "execution_count": 5,
   "metadata": {},
   "outputs": [],
   "source": [
    "os.environ['CUDA_VISIBLE_DEVICES'] = '0'"
   ]
  },
  {
   "attachments": {},
   "cell_type": "markdown",
   "metadata": {},
   "source": [
    "# Import Data"
   ]
  },
  {
   "cell_type": "code",
   "execution_count": 6,
   "metadata": {},
   "outputs": [
    {
     "name": "stdout",
     "output_type": "stream",
     "text": [
      "Graph with 4039 nodes and 88234 edges was correctly loaded\n"
     ]
    }
   ],
   "source": [
    "data_path = '../data/facebook/facebook_combined.txt'\n",
    "graph = nx.read_edgelist(data_path)\n",
    "\n",
    "print(f'Graph with {len(graph.nodes)} nodes and {len(graph.edges)} edges was correctly loaded')"
   ]
  },
  {
   "attachments": {},
   "cell_type": "markdown",
   "metadata": {},
   "source": [
    "# Network characteristics"
   ]
  },
  {
   "cell_type": "code",
   "execution_count": 7,
   "metadata": {},
   "outputs": [
    {
     "name": "stdout",
     "output_type": "stream",
     "text": [
      "Graph main characteristics :\n",
      "Nodes : 4039\n",
      "Edges : 88234\n",
      "Diameter : 8\n"
     ]
    }
   ],
   "source": [
    "print('Graph main characteristics :')\n",
    "\n",
    "print(f'Nodes : {len(graph.nodes)}')\n",
    "print(f'Edges : {len(graph.edges)}')\n",
    "print(f'Diameter : {nx.diameter(graph)}')"
   ]
  },
  {
   "attachments": {},
   "cell_type": "markdown",
   "metadata": {},
   "source": [
    "# Metrics"
   ]
  },
  {
   "cell_type": "code",
   "execution_count": 8,
   "metadata": {},
   "outputs": [],
   "source": [
    "metrics_to_functions = {\n",
    "    'degree': lambda graph : graph.degree, \n",
    "    'eigenvector_centrality': nx.eigenvector_centrality, \n",
    "    'page_rank': nx.pagerank,\n",
    "    'clustering_coef': nx.clustering, \n",
    "    'closeness': nx.closeness_centrality, \n",
    "    'betweenness' : nx.betweenness_centrality\n",
    "    }\n",
    "## neighborhood_connectivity missing\n",
    "\n",
    "def compute_centrality(metric, graph):\n",
    "    print(f'Metric {metric} is being measured')\n",
    "    return {metric: metrics_to_functions[metric](graph)}\n",
    "\n",
    "def get_centralities(graph, metrics_to_functions):\n",
    "    metric_list = Parallel(n_jobs=4)(delayed(compute_centrality)(metric, graph) for metric in metrics_to_functions.keys())\n",
    "    metric_dict = {}\n",
    "    for item in metric_list:\n",
    "        key = list(item.keys())[0]\n",
    "        metric_dict[key] = dict(item[key])\n",
    "    return metric_dict"
   ]
  },
  {
   "cell_type": "code",
   "execution_count": 9,
   "metadata": {},
   "outputs": [],
   "source": [
    "graph_metrics = get_centralities(graph, metrics_to_functions)"
   ]
  },
  {
   "cell_type": "code",
   "execution_count": 10,
   "metadata": {},
   "outputs": [
    {
     "name": "stdout",
     "output_type": "stream",
     "text": [
      "dict_keys(['degree', 'eigenvector_centrality', 'page_rank', 'clustering_coef', 'closeness', 'betweenness'])\n"
     ]
    }
   ],
   "source": [
    "print(graph_metrics.keys())"
   ]
  },
  {
   "cell_type": "code",
   "execution_count": 11,
   "metadata": {},
   "outputs": [
    {
     "name": "stdout",
     "output_type": "stream",
     "text": [
      "Maximum degree nodes : ['107', '1684', '1912', '3437', '0', '2543', '2347', '1888', '1800', '1663']\n",
      "Maximum eigenvector_centrality nodes : ['1912', '2266', '2206', '2233', '2464', '2142', '2218', '2078', '2123', '1993']\n",
      "Maximum page_rank nodes : ['3437', '107', '1684', '0', '1912', '348', '686', '3980', '414', '698']\n",
      "Maximum clustering_coef nodes : ['32', '33', '35', '42', '44', '46', '47', '52', '63', '70']\n",
      "Maximum closeness nodes : ['107', '58', '428', '563', '1684', '171', '348', '483', '414', '376']\n",
      "Maximum betweenness nodes : ['107', '1684', '3437', '1912', '1085', '0', '698', '567', '58', '428']\n"
     ]
    }
   ],
   "source": [
    "def get_n_maxima_for_metric(n, metric, graph_metrics) :\n",
    "    temp = graph_metrics[metric].copy()\n",
    "    max_keys = []\n",
    "    for i in range(n):\n",
    "        key = max(temp, key=temp.get)\n",
    "        max_keys.append(key)\n",
    "        temp[key] = 0\n",
    "    return max_keys\n",
    "\n",
    "max_degree_nodes = get_n_maxima_for_metric(10, \"degree\", graph_metrics)\n",
    "max_eigenvector_centrality_nodes = get_n_maxima_for_metric(10, \"eigenvector_centrality\", graph_metrics)\n",
    "max_page_rank_nodes = get_n_maxima_for_metric(10, \"page_rank\", graph_metrics)\n",
    "max_clustering_coef_nodes = get_n_maxima_for_metric(10, \"clustering_coef\", graph_metrics)\n",
    "max_closeness_nodes = get_n_maxima_for_metric(10, \"closeness\", graph_metrics)\n",
    "max_betweenness_nodes = get_n_maxima_for_metric(10, \"betweenness\", graph_metrics)\n",
    "\n",
    "print(f\"Maximum degree nodes : {max_degree_nodes}\")\n",
    "print(f\"Maximum eigenvector_centrality nodes : {max_eigenvector_centrality_nodes}\")\n",
    "print(f\"Maximum page_rank nodes : {max_page_rank_nodes}\")\n",
    "print(f\"Maximum clustering_coef nodes : {max_clustering_coef_nodes}\")\n",
    "print(f\"Maximum closeness nodes : {max_closeness_nodes}\")\n",
    "print(f\"Maximum betweenness nodes : {max_betweenness_nodes}\")"
   ]
  },
  {
   "attachments": {},
   "cell_type": "markdown",
   "metadata": {},
   "source": [
    "# Propagation d'une rumeur"
   ]
  },
  {
   "attachments": {},
   "cell_type": "markdown",
   "metadata": {},
   "source": [
    "## 1. Par random walk"
   ]
  },
  {
   "cell_type": "code",
   "execution_count": 38,
   "metadata": {},
   "outputs": [],
   "source": [
    "def label_propagation_rw(graph, labeled_nodes, max_iter=100):\n",
    "    \"\"\"\n",
    "    Label propagation using the random walk method.\n",
    "    \"\"\"\n",
    "    # Create a dictionary of node indices to their corresponding row indices in the transition matrix.\n",
    "    node_to_row = {n: i for i, n in enumerate(graph.nodes())}\n",
    "\n",
    "    # Create transition matrix\n",
    "    adjacency_matrix = nx.to_numpy_array(graph)\n",
    "    row_sums = adjacency_matrix.sum(axis=1)\n",
    "    transition_matrix = adjacency_matrix / row_sums[:, np.newaxis]\n",
    "\n",
    "    # Initialize the label matrix and a mask\n",
    "    Y = np.zeros((len(graph.nodes()), len(labeled_nodes)))\n",
    "    mask = np.ones((len(graph.nodes()), len(labeled_nodes))) * False\n",
    "    for label, nodes in labeled_nodes.items():\n",
    "        for node in nodes:\n",
    "            # One hot encode each label\n",
    "            Y[node_to_row[node], label] = 1\n",
    "            mask[node_to_row[node]] = True\n",
    "    \n",
    "    # Initialize history and load initial situation\n",
    "    history = []\n",
    "    epoch_hist = {}\n",
    "    for label in labeled_nodes.keys():\n",
    "        epoch_hist[label] = 0\n",
    "    for node in graph.nodes():\n",
    "            if np.sum(Y[node_to_row[node]]) != 0:\n",
    "                epoch_hist[np.argmax(Y[node_to_row[node]])] += 1\n",
    "    history.append(epoch_hist)\n",
    "\n",
    "    # Propagate the labels using the transition matrix.\n",
    "    for i in range(max_iter):\n",
    "        # Iterate Y\n",
    "        Y_new = transition_matrix.dot(Y)\n",
    "        if np.allclose(Y, Y_new):\n",
    "            break\n",
    "        Y = Y_new * (1 - mask) + Y * (mask)\n",
    "        # Store number of nodes of each class\n",
    "        epoch_hist = {}\n",
    "        for label in labeled_nodes.keys():\n",
    "            epoch_hist[label] = 0\n",
    "        for node in graph.nodes():\n",
    "                epoch_hist[np.argmax(Y[node_to_row[node]])] += 1\n",
    "        history.append(epoch_hist)\n",
    "\n",
    "    # Create a dictionary of node indices to their labels.\n",
    "    labels = {node: np.argmax(Y[node_to_row[node]]) for node in graph.nodes()}\n",
    "\n",
    "    return labels, history"
   ]
  },
  {
   "cell_type": "code",
   "execution_count": 39,
   "metadata": {},
   "outputs": [],
   "source": [
    "labels, history = label_propagation_rw(\n",
    "    graph, \n",
    "    {0: np.array(max_eigenvector_centrality_nodes)[0], 1: np.array(max_eigenvector_centrality_nodes)[1:]},\n",
    "    max_iter=100\n",
    "    )"
   ]
  },
  {
   "cell_type": "code",
   "execution_count": 40,
   "metadata": {},
   "outputs": [
    {
     "name": "stdout",
     "output_type": "stream",
     "text": [
      "Epoch 0 : {0: 3, 1: 9}\n",
      "Epoch 10 : {0: 1394, 1: 2645}\n",
      "Epoch 20 : {0: 1302, 1: 2737}\n",
      "Epoch 30 : {0: 1002, 1: 3037}\n",
      "Epoch 40 : {0: 792, 1: 3247}\n",
      "Epoch 50 : {0: 767, 1: 3272}\n",
      "Epoch 60 : {0: 691, 1: 3348}\n",
      "Epoch 70 : {0: 431, 1: 3608}\n",
      "Epoch 80 : {0: 407, 1: 3632}\n",
      "Epoch 90 : {0: 375, 1: 3664}\n",
      "Epoch 100 : {0: 374, 1: 3665}\n"
     ]
    }
   ],
   "source": [
    "for epoch, hist in enumerate(history):\n",
    "    if epoch % 10 == 0:\n",
    "        print(f\"Epoch {epoch} : {hist}\")"
   ]
  },
  {
   "cell_type": "code",
   "execution_count": 41,
   "metadata": {},
   "outputs": [],
   "source": [
    "def plot_history(history, n_labels):    \n",
    "\n",
    "    n_labels = 2\n",
    "\n",
    "    epochs = [epoch for epoch in range(len(history))]\n",
    "    label_names = [f\"{i}\" for i in range(n_labels)]\n",
    "    colors = ['#FF5733', '#33FF7A', '#336BFF']\n",
    "\n",
    "    data = np.zeros((len(label_names), len(epochs)))\n",
    "    for epoch, hist in enumerate(history):\n",
    "        for label in hist.keys():\n",
    "            data[label, epoch] = hist[label]\n",
    "\n",
    "    fig, ax = plt.subplots(figsize=(15, 7))\n",
    "\n",
    "    bottom = np.zeros(len(epochs))\n",
    "    for i in range(len(label_names)):\n",
    "        ax.bar(epochs, data[i], width=0.4, color=colors[i%len(colors)], align='center', label=label_names[i], bottom=bottom)\n",
    "        bottom += data[i]\n",
    "\n",
    "    ax.set_xlabel('Epoch')\n",
    "    ax.set_ylabel('Nombre de noeux pour chaque label')\n",
    "    ax.set_title('Évolution du nombre de label au cours de la propagation')\n",
    "    ax.legend(loc='best')\n",
    "\n",
    "    return fig, ax"
   ]
  },
  {
   "cell_type": "code",
   "execution_count": 42,
   "metadata": {},
   "outputs": [
    {
     "data": {
      "image/png": "[encoded data removed]",
      "text/plain": [
       "<Figure size 1080x504 with 1 Axes>"
      ]
     },
     "metadata": {
      "needs_background": "light"
     },
     "output_type": "display_data"
    }
   ],
   "source": [
    "fig, ax = plot_history(history, n_labels=2)\n",
    "plt.show()"
   ]
  },
  {
   "attachments": {},
   "cell_type": "markdown",
   "metadata": {},
   "source": [
    "## 2. Par Supervised learning"
   ]
  },
  {
   "cell_type": "code",
   "execution_count": 48,
   "metadata": {},
   "outputs": [],
   "source": [
    "def label_propagation_lp(graph, labeled_nodes, max_iter=1000):\n",
    "    \"\"\"\n",
    "    Label propagation using a supervised learning approach.\n",
    "    \"\"\"\n",
    "    # Create a dictionary of node indices to their corresponding row indices in the transition matrix.\n",
    "    node_to_row = {n: i for i, n in enumerate(graph.nodes())}\n",
    "\n",
    "    # Create the feature matrix X and label vector y.\n",
    "    X = np.array([graph.degree[node] for node in graph.nodes()]).reshape(-1, 1)\n",
    "    y = np.array([labeled_nodes.get(node, -1) for node in graph.nodes()])\n",
    "\n",
    "    # Initialize history and load initial situation\n",
    "    history = []\n",
    "    epoch_hist = {}\n",
    "    for label in labeled_nodes.keys():\n",
    "        epoch_hist[label] = 0\n",
    "    for node in graph.nodes():\n",
    "            if np.sum(Y[node_to_row[node]]) != 0:\n",
    "                epoch_hist[np.argmax(Y[node_to_row[node]])] += 1\n",
    "    history.append(epoch_hist)\n",
    "\n",
    "    # Propagate the labels using the label propagation algorithm.\n",
    "    for i in range(max_iter):\n",
    "        lp = LabelPropagation(kernel='knn', n_neighbors=5)\n",
    "        lp.fit(X, y)\n",
    "        y_new = lp.predict(X)\n",
    "        if np.allclose(y, y_new):\n",
    "            break\n",
    "        y = y_new\n",
    "        # Store number of nodes of each class\n",
    "        epoch_hist = {}\n",
    "        for label in labeled_nodes.keys():\n",
    "            epoch_hist[label] = 0\n",
    "        for node in graph.nodes():\n",
    "                epoch_hist[np.argmax(y[node_to_row[node]])] += 1\n",
    "        history.append(epoch_hist)\n",
    "\n",
    "    # Create a dictionary of node indices to their labels.\n",
    "    labels = {node: lp.transduction_[i] for i, node in enumerate(graph.nodes())}\n",
    "\n",
    "    return labels, history"
   ]
  },
  {
   "cell_type": "code",
   "execution_count": 46,
   "metadata": {},
   "outputs": [],
   "source": [
    "def label_propagation_knn(graph, graph_metrics, labeled_nodes, max_iter=100):\n",
    "    \"\"\"\n",
    "    Label propagation using a supervised learning approach.\n",
    "    \"\"\"\n",
    "    # Create a dictionary of node indices to their corresponding row indices in the transition matrix.\n",
    "    node_to_row = {n: i for i, n in enumerate(graph.nodes())}\n",
    "\n",
    "    # Create the feature matrix X and label vector y and mask\n",
    "    X = np.array([[graph_metrics[metric][node]  for metric in graph_metrics.keys()] for node in graph.nodes()])\n",
    "    y = np.zeros((len(graph.nodes()), len(labeled_nodes)))\n",
    "    mask_X = np.zeros((len(graph.nodes())), dtype=bool)\n",
    "    mask_y = np.zeros((len(graph.nodes())), dtype=bool)\n",
    "    for label, nodes in labeled_nodes.items():\n",
    "        for node in nodes:\n",
    "            y[node_to_row[node], label] = 1\n",
    "            mask_X[node_to_row[node]] = True\n",
    "            mask_y[node_to_row[node]] = True\n",
    "\n",
    "    # Initialize history and load initial situation\n",
    "    history = []\n",
    "    epoch_hist = {}\n",
    "    for label in labeled_nodes.keys():\n",
    "        epoch_hist[label] = 0\n",
    "    for node in graph.nodes():\n",
    "            if np.sum(y[node_to_row[node]]) != 0:\n",
    "                epoch_hist[np.argmax(y[node_to_row[node]])] += 1\n",
    "    history.append(epoch_hist)\n",
    "\n",
    "    # First learning iteration is specific so we do it outside the loop\n",
    "    model = KNeighborsClassifier(n_neighbors=5)\n",
    "    model.fit(X[mask_X], y[mask_y])\n",
    "    y = model.predict(X) * ~np.transpose(np.array([mask_y, mask_y])) + y * np.transpose(np.array([mask_y, mask_y]))\n",
    "\n",
    "    # Propagate the labels using the label propagation algorithm.\n",
    "    for i in range(1, max_iter):\n",
    "        model = KNeighborsClassifier(n_neighbors=5)\n",
    "        model.fit(X, y)\n",
    "        y_new = model.predict(X)\n",
    "        if np.allclose(y, y_new):\n",
    "            break\n",
    "        y = y_new * ~np.transpose(np.array([mask_y, mask_y])) + y * np.transpose(np.array([mask_y, mask_y]))\n",
    "        # Store number of nodes of each class\n",
    "        epoch_hist = {}\n",
    "        for label in labeled_nodes.keys():\n",
    "            epoch_hist[label] = 0\n",
    "        for node in graph.nodes():\n",
    "                epoch_hist[np.argmax(y[node_to_row[node]])] += 1\n",
    "        history.append(epoch_hist)\n",
    "\n",
    "    # Create a dictionary of node indices to their labels.\n",
    "    labels = {node: y[i] for i, node in enumerate(graph.nodes())}\n",
    "\n",
    "    return labels, history"
   ]
  },
  {
   "cell_type": "code",
   "execution_count": 60,
   "metadata": {},
   "outputs": [],
   "source": [
    "labels, history = label_propagation_knn(\n",
    "    graph,\n",
    "    graph_metrics, \n",
    "    {0: np.array(max_eigenvector_centrality_nodes)[:6], 1: np.array(max_eigenvector_centrality_nodes)[6:]},\n",
    "    )"
   ]
  },
  {
   "cell_type": "code",
   "execution_count": 61,
   "metadata": {},
   "outputs": [
    {
     "name": "stdout",
     "output_type": "stream",
     "text": [
      "Epoch 0 : {0: 6, 1: 4}\n",
      "Epoch 10 : {0: 23, 1: 4016}\n",
      "Epoch 20 : {0: 23, 1: 4016}\n",
      "Epoch 30 : {0: 23, 1: 4016}\n",
      "Epoch 40 : {0: 23, 1: 4016}\n",
      "Epoch 50 : {0: 23, 1: 4016}\n",
      "Epoch 60 : {0: 23, 1: 4016}\n",
      "Epoch 70 : {0: 23, 1: 4016}\n",
      "Epoch 80 : {0: 23, 1: 4016}\n",
      "Epoch 90 : {0: 23, 1: 4016}\n"
     ]
    }
   ],
   "source": [
    "for epoch, hist in enumerate(history):\n",
    "    if epoch % 10 == 0:\n",
    "        print(f\"Epoch {epoch} : {hist}\")"
   ]
  },
  {
   "cell_type": "code",
   "execution_count": 62,
   "metadata": {},
   "outputs": [
    {
     "data": {
      "image/png": "[encoded data removed]",
      "text/plain": [
       "<Figure size 1080x504 with 1 Axes>"
      ]
     },
     "metadata": {
      "needs_background": "light"
     },
     "output_type": "display_data"
    }
   ],
   "source": [
    "fig, ax = plot_history(history, n_labels=2)\n",
    "plt.show()"
   ]
  },
  {
   "cell_type": "code",
   "execution_count": null,
   "metadata": {},
   "outputs": [],
   "source": []
  }
 ],
 "metadata": {
  "kernelspec": {
   "display_name": "Python 3",
   "language": "python",
   "name": "python3"
  },
  "language_info": {
   "codemirror_mode": {
    "name": "ipython",
    "version": 3
   },
   "file_extension": ".py",
   "mimetype": "text/x-python",
   "name": "python",
   "nbconvert_exporter": "python",
   "pygments_lexer": "ipython3",
   "version": "3.8.5"
  }
 },
 "nbformat": 4,
 "nbformat_minor": 2
}
